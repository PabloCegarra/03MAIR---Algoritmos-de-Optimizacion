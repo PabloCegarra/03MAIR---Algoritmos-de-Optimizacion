{
  "nbformat": 4,
  "nbformat_minor": 0,
  "metadata": {
    "colab": {
      "provenance": []
    },
    "kernelspec": {
      "name": "python3",
      "display_name": "Python 3"
    }
  },
  "cells": [
    {
      "cell_type": "markdown",
      "metadata": {
        "id": "hVbXYX-RfPWh"
      },
      "source": [
        "# Algoritmos de optimización - Seminario<br>\n",
        "Nombre y Apellidos: Pablo Cegarra Tornell   <br>\n",
        "Url: https://github.com/PabloCegarra/03MAIR---Algoritmos-de-Optimizacion/tree/main/Seminario<br>\n",
        "Problema:\n",
        "\n",
        ">**3. Combinar cifras y operaciones**\n",
        "\n",
        "Descripción del problema:(copiar enunciado)\n",
        "**3. Combinar cifras y operaciones**\n",
        "El problema consiste en analizar el siguiente problema y diseñar un algoritmo que lo resuelva.\n",
        "\n",
        "\n",
        "*   Disponemos de las 9 cifras del 1 al 9 (excluimos el cero) y de los 4 signos básicos de las\n",
        "operaciones fundamentales: suma(+), resta(-), multiplicación(*) y división(/)\n",
        "*   Debemos combinarlos alternativamente sin repetir ninguno de ellos para obtener una cantidad\n",
        "dada. Un ejemplo sería para obtener el 4:\n",
        "4+2-6/3*1 = 4\n",
        "\n",
        "\n",
        "\n",
        "\n",
        "\n",
        "(*) La respuesta es obligatoria\n",
        "\n",
        "\n",
        "\n",
        "\n",
        "\n",
        "                                        "
      ]
    },
    {
      "cell_type": "markdown",
      "metadata": {
        "id": "3_-exlrTgLd-"
      },
      "source": [
        "(*)¿Cuantas posibilidades hay sin tener en cuenta las restricciones?<br>\n",
        "\n",
        "\n",
        "\n",
        "¿Cuantas posibilidades hay teniendo en cuenta todas las restricciones.\n",
        "\n",
        "\n"
      ]
    },
    {
      "cell_type": "markdown",
      "metadata": {
        "id": "WfCUqJyKhPcw"
      },
      "source": [
        "**Respuesta**\n",
        "\n",
        "1.- Si se permitiera la repetición de números y operadores, el número de posibilidades sería el número de combinaciones con repetición de 5 elementos tomados de un conjunto de 9 elementos multiplicado por el número de combinaciones con repetición de 4 elementos tomados de un conjunto de 4 elementos. Esto es igual a (9+5-1)! / ((9-1)! * 5!) * (4+4-1)! / ((4-1)! * 4!) = 12600 * 35 = 441.000. Por lo tanto, habría 441.000 posibilidades en total.\n",
        "\n",
        "2.- Teniendo en cuenta las restricciones, el número de posibilidades es el número de permutaciones de 5 elementos tomados de un conjunto de 9 elementos multiplicado por el número de permutaciones de 4 elementos tomados de un conjunto de 4 elementos. Esto es igual a 9! / (9-5)! * 4! = 15120. Por lo tanto, hay 15.120 posibilidades en total."
      ]
    },
    {
      "cell_type": "markdown",
      "metadata": {
        "id": "dzynfVJahHoY"
      },
      "source": [
        "Modelo para el espacio de soluciones<br>\n",
        "(*) ¿Cual es la estructura de datos que mejor se adapta al problema? Argumentalo.(Es posible que hayas elegido una al principio y veas la necesidad de cambiar, arguméntalo)\n"
      ]
    },
    {
      "cell_type": "markdown",
      "metadata": {
        "id": "xFIJrOwKi2Ti"
      },
      "source": [
        "**Respuesta**\n",
        "\n",
        "En este tipo de problema, en el caso de fuerza bruta solo he necesitado los números y operandos de entrada y en base a estos he ido generando las soluciones en un string que se ha ido evaluando con la función eval. En el algoritmo genético se ha tratado de manera similar, cambiando que la población era una lista de posibles soluciones, es decir, cada instancia de la población era un string que correspondia con la expresión y sobre estas ha ido trabajando el algoritmo."
      ]
    },
    {
      "cell_type": "markdown",
      "metadata": {
        "id": "7Z9U2W7bi-XS"
      },
      "source": [
        "Según el modelo para el espacio de soluciones<br>\n",
        "(*)¿Cual es la función objetivo?\n",
        "\n",
        "(*)¿Es un problema de maximización o minimización?"
      ]
    },
    {
      "cell_type": "markdown",
      "metadata": {
        "id": "hBalWLM7j1_d"
      },
      "source": [
        "**Respuesta**\n",
        "\n",
        "No hay una función objetivo definida. El código simplemente genera todas las posibles expresiones matemáticas que se pueden formar con los números y operadores dados y las evalúa para encontrar la expresión que da como resultado el número objetivo dado. Por ello mismo no podemos hablar de si es un problema de maximización o minimización, simplemente se busca una solución exacta para un número objetivo pero no una función objetivo."
      ]
    },
    {
      "cell_type": "markdown",
      "metadata": {
        "id": "rlnTYgY1j6I2"
      },
      "source": [
        "Diseña un algoritmo para resolver el problema por fuerza bruta"
      ]
    },
    {
      "cell_type": "markdown",
      "metadata": {
        "id": "70rDgxYXkC8r"
      },
      "source": [
        "**Respuesta**\n",
        "\n",
        "Dejo la implementación de dos algoritmos por fuerza bruta. El primero '*combinar_cifras_operaciones_fuerza_bruta*' realiza el código sin hacer uso de ninguna librería. El segundo código '*combinar_cifras_operaciones_fuerza_bruta_itertools*' hace uso de la librería itertools para generar las permutaciones posibles haciendo el código más legible, librería utilizada en la actividad guiada de backtracking."
      ]
    },
    {
      "cell_type": "code",
      "source": [
        "def evaluar(expresion):\n",
        "    try:\n",
        "        return eval(expresion)\n",
        "    except ZeroDivisionError:\n",
        "        return None\n",
        "\n",
        "def combinar_cifras_operaciones_fuerza_bruta(objetivo):\n",
        "    numeros = [1, 2, 3, 4, 5, 6, 7, 8, 9]\n",
        "    operadores = ['+', '-', '*', '/']\n",
        "    for i in numeros:\n",
        "        for j in numeros:\n",
        "            if j != i:\n",
        "                for k in numeros:\n",
        "                    if k != i and k != j:\n",
        "                        for l in numeros:\n",
        "                            if l != i and l != j and l != k:\n",
        "                                for m in numeros:\n",
        "                                    if m != i and m != j and m != k and m != l:\n",
        "                                        operadores_usados = []\n",
        "                                        for n in range(4):\n",
        "                                            operador = random.choice(list(set(operadores) - set(operadores_usados)))\n",
        "                                            operadores_usados.append(operador)\n",
        "                                        expresion = f'{i} {operadores_usados[0]} {j} {operadores_usados[1]} {k} {operadores_usados[2]} {l} {operadores_usados[3]} {m}'\n",
        "                                        resultado = evaluar(expresion)\n",
        "                                        if resultado == objetivo:\n",
        "                                            return expresion + ' = ' + str(objetivo)\n",
        "    return \"No hay solución\"\n",
        "combinar_cifras_operaciones_fuerza_bruta(4)"
      ],
      "metadata": {
        "colab": {
          "base_uri": "https://localhost:8080/",
          "height": 36
        },
        "id": "B95QNcrMZm92",
        "outputId": "56eb5cef-4655-4ea6-fea4-6b7609951897"
      },
      "execution_count": 19,
      "outputs": [
        {
          "output_type": "execute_result",
          "data": {
            "text/plain": [
              "'1 / 3 * 6 + 7 - 5 = 4'"
            ],
            "application/vnd.google.colaboratory.intrinsic+json": {
              "type": "string"
            }
          },
          "metadata": {},
          "execution_count": 19
        }
      ]
    },
    {
      "cell_type": "code",
      "metadata": {
        "id": "CJb5sQ0qkENy",
        "colab": {
          "base_uri": "https://localhost:8080/",
          "height": 36
        },
        "outputId": "efbac708-6478-456e-b9af-9ada7fe73595"
      },
      "source": [
        "import itertools\n",
        "\n",
        "def evaluar(expresion):\n",
        "    try:\n",
        "        return eval(expresion)\n",
        "    except ZeroDivisionError:\n",
        "        return None\n",
        "\n",
        "def combinar_cifras_operaciones_fuerza_bruta_itertools(objetivo):\n",
        "    numeros = [1, 2, 3, 4, 5, 6, 7, 8, 9]\n",
        "    operadores = ['+', '-', '*', '/']\n",
        "    for numeros_permutados in itertools.permutations(numeros, 5):\n",
        "        for operadores_permutados in itertools.permutations(operadores, 4):\n",
        "            expresion = f'{numeros_permutados[0]} {operadores_permutados[0]} {numeros_permutados[1]} {operadores_permutados[1]} {numeros_permutados[2]} {operadores_permutados[2]} {numeros_permutados[3]} {operadores_permutados[3]} {numeros_permutados[4]}'\n",
        "            resultado = evaluar(expresion)\n",
        "            if resultado == objetivo:\n",
        "                return expresion + ' = ' + str(objetivo)\n",
        "    return \"No hay solución\"\n",
        "combinar_cifras_operaciones_fuerza_bruta_itertools(4)"
      ],
      "execution_count": 20,
      "outputs": [
        {
          "output_type": "execute_result",
          "data": {
            "text/plain": [
              "'1 - 2 * 3 / 6 + 4 = 4'"
            ],
            "application/vnd.google.colaboratory.intrinsic+json": {
              "type": "string"
            }
          },
          "metadata": {},
          "execution_count": 20
        }
      ]
    },
    {
      "cell_type": "markdown",
      "metadata": {
        "id": "tgrnsC2nkFa8"
      },
      "source": [
        "Calcula la complejidad del algoritmo por fuerza bruta"
      ]
    },
    {
      "cell_type": "markdown",
      "metadata": {
        "id": "9eUd3xwckP68"
      },
      "source": [
        "**Respuesta**\n",
        "\n",
        "El orden de complejidad de este algoritmo es O(n^5 * m!), donde n es el número de cifras disponibles y m es el número de operaciones disponibles. Esto se debe a que el algoritmo tiene cinco bucles anidados que recorren las cifras sin repetición, y dentro de cada iteración se generan todas las permutaciones posibles de las operaciones. Este algoritmo es muy ineficiente y consume mucho tiempo y memoria. Una forma de mejorar el algoritmo es usar itertools.permutations en lugar de bucles anidados y selección aleatoria"
      ]
    },
    {
      "cell_type": "markdown",
      "metadata": {
        "id": "txbrmLmskReM"
      },
      "source": [
        "(*)Diseña un algoritmo que mejore la complejidad del algortimo por fuerza bruta. Argumenta porque crees que mejora el algoritmo por fuerza bruta"
      ]
    },
    {
      "cell_type": "markdown",
      "metadata": {
        "id": "hLrVwt5QkZPD"
      },
      "source": [
        "**Respuesta**"
      ]
    },
    {
      "cell_type": "code",
      "metadata": {
        "id": "m1eyM21Vkabg",
        "colab": {
          "base_uri": "https://localhost:8080/",
          "height": 36
        },
        "outputId": "ec851ab0-a87e-4a7e-c5e8-7c8241a0db98"
      },
      "source": [
        "import itertools\n",
        "import random\n",
        "\n",
        "def evaluar(expresion):\n",
        "    try:\n",
        "        return eval(expresion)\n",
        "    except ZeroDivisionError:\n",
        "        return None\n",
        "\n",
        "def generar_poblacion(tamano_poblacion, objetivo):\n",
        "    numeros = [1, 2, 3, 4, 5, 6, 7, 8, 9]\n",
        "    operadores = ['+', '-', '*', '/']\n",
        "    poblacion = []\n",
        "    for i in range(tamano_poblacion):\n",
        "        numeros_permutados = random.sample(numeros, 5)\n",
        "        operadores_permutados = random.sample(operadores, 4)\n",
        "        expresion = f'{numeros_permutados[0]} {operadores_permutados[0]} {numeros_permutados[1]} {operadores_permutados[1]} {numeros_permutados[2]} {operadores_permutados[2]} {numeros_permutados[3]} {operadores_permutados[3]} {numeros_permutados[4]}'\n",
        "        resultado = evaluar(expresion)\n",
        "        if resultado == objetivo:\n",
        "            return expresion + ' = ' + str(objetivo)\n",
        "        poblacion.append(expresion)\n",
        "    return poblacion\n",
        "\n",
        "def seleccionar_padres(poblacion):\n",
        "    padres = []\n",
        "    for i in range(2):\n",
        "        padres.append(random.choice(poblacion))\n",
        "    return padres\n",
        "\n",
        "def cruzar(padres):\n",
        "    punto_cruce = random.randint(1, len(padres[0]) - 2)\n",
        "    hijo1 = padres[0][:punto_cruce] + padres[1][punto_cruce:]\n",
        "    hijo2 = padres[1][:punto_cruce] + padres[0][punto_cruce:]\n",
        "    return [hijo1, hijo2]\n",
        "\n",
        "\n",
        "def mutar(hijo):\n",
        "    if random.random() < 0.01:\n",
        "        posicion_mutacion = random.randint(0, len(hijo) - 1)\n",
        "        if hijo[posicion_mutacion].isdigit():\n",
        "            nuevo_valor = random.randint(1, 9)\n",
        "            hijo = hijo[:posicion_mutacion] + str(nuevo_valor) + hijo[posicion_mutacion+1:]\n",
        "        #else:\n",
        "            ##nuevo_valor = random.choice(['+', '-', '*', '/']) \n",
        "            ##hijo = hijo[:posicion_mutacion] + nuevo_valor + hijo[posicion_mutacion+1:]\n",
        "        # La mutacion en operandos no he conseguido corregirla (concatena operandos en vez de sustituirlos)\n",
        "    return hijo\n",
        "\n",
        "def generar_nueva_generacion(poblacion_anterior, tamano_poblacion, objetivo):\n",
        "    nueva_generacion = []\n",
        "    for i in range(tamano_poblacion):\n",
        "        padres = seleccionar_padres(poblacion_anterior)\n",
        "        hijos = cruzar(padres)\n",
        "        hijos_mutados = [mutar(hijo) for hijo in hijos]\n",
        "        for hijo in hijos_mutados:\n",
        "            resultado_hijo = evaluar(hijo)\n",
        "            if resultado_hijo == objetivo:\n",
        "                return hijo + ' = ' + str(objetivo)\n",
        "            nueva_generacion.append(hijo)\n",
        "    return nueva_generacion\n",
        "\n",
        "\n",
        "def combinar_cifras_operaciones_genetico(objetivo):\n",
        "    tamano_poblacion = 1000\n",
        "    generaciones = 100\n",
        "    poblacion_actual = generar_poblacion(tamano_poblacion, objetivo)\n",
        "    while(type(poblacion_actual) != str and generaciones > 0):\n",
        "      poblacion_actual = generar_nueva_generacion(poblacion_actual, tamano_poblacion, objetivo)\n",
        "      generaciones -= 1\n",
        "    if type(poblacion_actual) == str:\n",
        "          return poblacion_actual\n",
        "\n",
        "combinar_cifras_operaciones_genetico(4)"
      ],
      "execution_count": 15,
      "outputs": [
        {
          "output_type": "execute_result",
          "data": {
            "text/plain": [
              "'5 + 7 - 4 / 1 * 2 = 4'"
            ],
            "application/vnd.google.colaboratory.intrinsic+json": {
              "type": "string"
            }
          },
          "metadata": {},
          "execution_count": 15
        }
      ]
    },
    {
      "cell_type": "markdown",
      "source": [
        "Creo que se mejorar la complejidad del algoritmo por fuerza bruta al no tener que generar todas las soluciones del problema. Ante este tipo de problema que es un problema de búsqueda resulta muy apropiado utilizar un algoritmo genético que no explora todas las soluciones del problema, sino que se utiliza una pobnlación de soluciones que va evolucionando a poblaciones de soluciones que se acercan mas a la solución definida, en este caso, la búsqueda de una expresión que de como resultado la entrada dada. Es por ello que para este problema que necesitamos una solución exacta me ha parecido buena idea utilizar este algoritmo estocástico."
      ],
      "metadata": {
        "id": "8Gq2Pqz2RS7s"
      }
    },
    {
      "cell_type": "markdown",
      "metadata": {
        "id": "eGDB4K6uk1iN"
      },
      "source": [
        "(*)Calcula la complejidad del algoritmo "
      ]
    },
    {
      "cell_type": "markdown",
      "metadata": {
        "id": "NhpTh_BPk1ms"
      },
      "source": [
        "**Respuesta**\n",
        "\n",
        "El orden de complejidad de un algoritmo genético suele ser del orden de O(n *g *f) siendo n el tamaño de pobliación, g el número de generaciones y f la función de evaluación. No he utilizado elitismo, si hubiera utilizado elitismo el coste podría aumentar en un factor logarítmico, lo cual tampoco afectaría significativamente a los tiempos obtenidos. Destacar que al ser un algoritmo estocástico, esta complejidad se ve afectada dependiendo de la calidad de soluciones encontradas y el grado de convergencia alcanzado."
      ]
    },
    {
      "cell_type": "markdown",
      "metadata": {
        "id": "3M6QjTsSkmYe"
      },
      "source": [
        "Según el problema (y tenga sentido), diseña un juego de datos de entrada aleatorios"
      ]
    },
    {
      "cell_type": "markdown",
      "metadata": {
        "id": "Jc3_OlyNkvjZ"
      },
      "source": [
        "**Respuesta**\n",
        "\n",
        "Para este problema resulta apropiado generar una entrada de datos que permita explorar (como se propone en el enunciado) el valor mínimo que podemos obtener y el valor máximo, por ello no he realizado una entrada de datos aleatoria, sino una entrada que explore las soluciones entre el **valor mínimo (1) y el máximo (77)**. También podemos dar respuesta de esta forma a si se pueden encontrar las soluciones para todas las entradas entre el valor mínimo y máximo que podemos obtener, en este caso, si podemos encontrar todas las soluciones intermedias."
      ]
    },
    {
      "cell_type": "code",
      "metadata": {
        "id": "sJ-N2etjkyWc",
        "colab": {
          "base_uri": "https://localhost:8080/",
          "height": 0
        },
        "outputId": "9da92e07-412b-42c6-b37c-6726779eea25"
      },
      "source": [
        "import time\n",
        "start_time = time.time()\n",
        "print(\"Algoritmo fuerza bruta itertools: \")\n",
        "for i in range(0,78): \n",
        "  print(\"Entrada:\",str(i),\" Expresión: \", combinar_cifras_operaciones_fuerza_bruta_itertools(i))\n",
        "end_time = time.time()\n",
        "\n",
        "print(\"Tiempo de ejecución: \", end_time - start_time)"
      ],
      "execution_count": 13,
      "outputs": [
        {
          "output_type": "stream",
          "name": "stdout",
          "text": [
            "Algoritmo fuerza bruta itertools: \n",
            "Entrada: 0  Expresión:  1 + 2 / 3 * 6 - 5 = 0\n",
            "Entrada: 1  Expresión:  1 + 2 - 3 * 4 / 6 = 1\n",
            "Entrada: 2  Expresión:  1 - 2 / 3 * 6 + 5 = 2\n",
            "Entrada: 3  Expresión:  1 - 2 + 3 / 6 * 8 = 3\n",
            "Entrada: 4  Expresión:  1 - 2 * 3 / 6 + 4 = 4\n",
            "Entrada: 5  Expresión:  1 - 2 + 3 / 4 * 8 = 5\n",
            "Entrada: 6  Expresión:  1 - 2 / 3 * 6 + 9 = 6\n",
            "Entrada: 7  Expresión:  1 - 2 * 3 / 6 + 7 = 7\n",
            "Entrada: 8  Expresión:  1 - 2 * 3 / 6 + 8 = 8\n",
            "Entrada: 9  Expresión:  1 - 2 * 3 / 6 + 9 = 9\n",
            "Entrada: 10  Expresión:  1 + 2 * 6 - 9 / 3 = 10\n",
            "Entrada: 11  Expresión:  1 - 2 + 4 / 3 * 9 = 11\n",
            "Entrada: 12  Expresión:  1 + 2 * 7 - 9 / 3 = 12\n",
            "Entrada: 13  Expresión:  1 - 2 + 6 / 3 * 7 = 13\n",
            "Entrada: 14  Expresión:  1 - 2 + 5 / 3 * 9 = 14\n",
            "Entrada: 15  Expresión:  1 - 2 + 6 / 3 * 8 = 15\n",
            "Entrada: 16  Expresión:  1 - 3 + 4 / 2 * 9 = 16\n",
            "Entrada: 17  Expresión:  1 - 2 + 6 / 3 * 9 = 17\n",
            "Entrada: 18  Expresión:  1 - 3 + 5 / 2 * 8 = 18\n",
            "Entrada: 19  Expresión:  1 - 3 + 6 / 2 * 7 = 19\n",
            "Entrada: 20  Expresión:  1 - 2 + 7 / 3 * 9 = 20\n",
            "Entrada: 21  Expresión:  1 - 4 + 6 / 2 * 8 = 21\n",
            "Entrada: 22  Expresión:  1 - 3 + 6 / 2 * 8 = 22\n",
            "Entrada: 23  Expresión:  1 - 2 + 8 / 3 * 9 = 23\n",
            "Entrada: 24  Expresión:  1 + 3 * 9 - 8 / 2 = 24\n",
            "Entrada: 25  Expresión:  1 - 3 + 6 / 2 * 9 = 25\n",
            "Entrada: 26  Expresión:  1 - 3 + 7 / 2 * 8 = 26\n",
            "Entrada: 27  Expresión:  1 + 4 * 7 - 6 / 3 = 27\n",
            "Entrada: 28  Expresión:  1 + 5 * 6 - 9 / 3 = 28\n",
            "Entrada: 29  Expresión:  1 - 4 / 2 + 5 * 6 = 29\n",
            "Entrada: 30  Expresión:  1 + 4 * 8 - 6 / 2 = 30\n",
            "Entrada: 31  Expresión:  1 + 4 * 8 - 6 / 3 = 31\n",
            "Entrada: 32  Expresión:  1 + 5 * 7 - 8 / 2 = 32\n",
            "Entrada: 33  Expresión:  1 - 4 + 8 / 2 * 9 = 33\n",
            "Entrada: 34  Expresión:  1 - 3 + 8 / 2 * 9 = 34\n",
            "Entrada: 35  Expresión:  1 + 4 * 9 - 6 / 3 = 35\n",
            "Entrada: 36  Expresión:  2 / 1 + 5 * 8 - 6 = 36\n",
            "Entrada: 37  Expresión:  3 / 1 - 2 + 4 * 9 = 37\n",
            "Entrada: 38  Expresión:  1 + 5 * 8 - 6 / 2 = 38\n",
            "Entrada: 39  Expresión:  1 - 4 / 2 + 5 * 8 = 39\n",
            "Entrada: 40  Expresión:  1 + 6 * 7 - 9 / 3 = 40\n",
            "Entrada: 41  Expresión:  1 - 4 / 2 + 6 * 7 = 41\n",
            "Entrada: 42  Expresión:  1 + 5 * 9 - 8 / 2 = 42\n",
            "Entrada: 43  Expresión:  1 + 5 * 9 - 6 / 2 = 43\n",
            "Entrada: 44  Expresión:  1 - 4 / 2 + 5 * 9 = 44\n",
            "Entrada: 45  Expresión:  2 / 1 - 5 + 6 * 8 = 45\n",
            "Entrada: 46  Expresión:  1 + 6 * 8 - 9 / 3 = 46\n",
            "Entrada: 47  Expresión:  1 - 4 / 2 + 6 * 8 = 47\n",
            "Entrada: 48  Expresión:  2 / 1 + 6 * 9 - 8 = 48\n",
            "Entrada: 49  Expresión:  2 / 1 + 6 * 9 - 7 = 49\n",
            "Entrada: 50  Expresión:  3 / 1 + 6 * 9 - 7 = 50\n",
            "Entrada: 51  Expresión:  1 + 6 * 9 - 8 / 2 = 51\n",
            "Entrada: 52  Expresión:  2 / 1 - 4 + 6 * 9 = 52\n",
            "Entrada: 53  Expresión:  1 - 4 / 2 + 6 * 9 = 53\n",
            "Entrada: 54  Expresión:  1 - 6 / 2 + 7 * 8 = 54\n",
            "Entrada: 55  Expresión:  1 - 4 / 2 + 7 * 8 = 55\n",
            "Entrada: 56  Expresión:  2 - 6 / 3 + 7 * 8 = 56\n",
            "Entrada: 57  Expresión:  2 / 1 + 7 * 9 - 8 = 57\n",
            "Entrada: 58  Expresión:  3 / 1 + 7 * 9 - 8 = 58\n",
            "Entrada: 59  Expresión:  2 / 1 - 6 + 7 * 9 = 59\n",
            "Entrada: 60  Expresión:  1 + 7 * 9 - 8 / 2 = 60\n",
            "Entrada: 61  Expresión:  1 - 6 / 2 + 7 * 9 = 61\n",
            "Entrada: 62  Expresión:  1 - 4 / 2 + 7 * 9 = 62\n",
            "Entrada: 63  Expresión:  2 - 6 / 3 + 7 * 9 = 63\n",
            "Entrada: 64  Expresión:  3 / 1 - 2 + 7 * 9 = 64\n",
            "Entrada: 65  Expresión:  4 / 1 - 2 + 7 * 9 = 65\n",
            "Entrada: 66  Expresión:  5 / 1 - 2 + 7 * 9 = 66\n",
            "Entrada: 67  Expresión:  2 / 1 - 7 + 8 * 9 = 67\n",
            "Entrada: 68  Expresión:  2 / 1 - 6 + 8 * 9 = 68\n",
            "Entrada: 69  Expresión:  2 / 1 - 5 + 8 * 9 = 69\n",
            "Entrada: 70  Expresión:  1 - 6 / 2 + 8 * 9 = 70\n",
            "Entrada: 71  Expresión:  1 - 4 / 2 + 8 * 9 = 71\n",
            "Entrada: 72  Expresión:  2 - 6 / 3 + 8 * 9 = 72\n",
            "Entrada: 73  Expresión:  3 / 1 - 2 + 8 * 9 = 73\n",
            "Entrada: 74  Expresión:  4 / 1 - 2 + 8 * 9 = 74\n",
            "Entrada: 75  Expresión:  5 / 1 - 2 + 8 * 9 = 75\n",
            "Entrada: 76  Expresión:  6 / 1 - 2 + 8 * 9 = 76\n",
            "Entrada: 77  Expresión:  7 / 1 - 2 + 8 * 9 = 77\n",
            "Tiempo de ejecución:  25.56013512611389\n"
          ]
        }
      ]
    },
    {
      "cell_type": "code",
      "source": [
        "import time\n",
        "start_time = time.time()\n",
        "print(\"Algoritmo Genético: \")\n",
        "for i in range(0,78): \n",
        "  print(\"Entrada:\",str(i),\" Expresión: \", combinar_cifras_operaciones_genetico(i))\n",
        "end_time = time.time()\n",
        "print(\"Tiempo de ejecución: \", end_time - start_time)"
      ],
      "metadata": {
        "colab": {
          "base_uri": "https://localhost:8080/",
          "height": 0
        },
        "id": "TW4wLV45Wljc",
        "outputId": "2f469772-77e9-42fa-e805-1c9f171a580f"
      },
      "execution_count": 16,
      "outputs": [
        {
          "output_type": "stream",
          "name": "stdout",
          "text": [
            "Algoritmo Genético: \n",
            "Entrada: 0  Expresión:  2 / 3 * 6 + 1 - 5 = 0\n",
            "Entrada: 1  Expresión:  1 - 3 * 4 / 2 + 6 = 1\n",
            "Entrada: 2  Expresión:  7 - 8 + 6 / 2 * 1 = 2\n",
            "Entrada: 3  Expresión:  8 * 3 / 4 - 9 + 6 = 3\n",
            "Entrada: 4  Expresión:  5 - 9 / 1 + 2 * 4 = 4\n",
            "Entrada: 5  Expresión:  8 + 3 - 4 / 6 * 9 = 5\n",
            "Entrada: 6  Expresión:  5 + 7 - 4 * 3 / 2 = 6\n",
            "Entrada: 7  Expresión:  2 * 9 / 3 - 7 + 8 = 7\n",
            "Entrada: 8  Expresión:  3 + 8 - 6 * 2 / 4 = 8\n",
            "Entrada: 9  Expresión:  6 / 3 - 1 + 2 * 4 = 9\n",
            "Entrada: 10  Expresión:  2 + 7 / 4 * 8 - 6 = 10\n",
            "Entrada: 11  Expresión:  8 * 9 / 6 + 1 - 2 = 11\n",
            "Entrada: 12  Expresión:  7 - 3 + 4 / 1 * 2 = 12\n",
            "Entrada: 13  Expresión:  8 / 2 - 6 + 3 * 5 = 13\n",
            "Entrada: 14  Expresión:  9 + 4 / 2 * 3 - 1 = 14\n",
            "Entrada: 15  Expresión:  6 * 5 / 3 - 4 + 9 = 15\n",
            "Entrada: 16  Expresión:  5 * 6 / 2 + 8 - 7 = 16\n",
            "Entrada: 17  Expresión:  9 * 5 / 3 - 6 + 8 = 17\n",
            "Entrada: 18  Expresión:  5 + 3 * 7 / 1 - 8 = 18\n",
            "Entrada: 19  Expresión:  9 - 4 + 6 / 3 * 7 = 19\n",
            "Entrada: 20  Expresión:  6 + 9 * 2 - 4 / 1 = 20\n",
            "Entrada: 21  Expresión:  9 / 1 + 5 * 4 - 8 = 21\n",
            "Entrada: 22  Expresión:  9 * 2 - 3 + 7 / 1 = 22\n",
            "Entrada: 23  Expresión:  9 * 6 / 2 + 3 - 7 = 23\n",
            "Entrada: 24  Expresión:  7 - 3 + 4 * 5 / 1 = 24\n",
            "Entrada: 25  Expresión:  6 * 7 / 2 + 8 - 4 = 25\n",
            "Entrada: 26  Expresión:  7 * 4 - 5 + 9 / 3 = 26\n",
            "Entrada: 27  Expresión:  6 / 1 * 4 + 5 - 2 = 27\n",
            "Entrada: 28  Expresión:  8 - 7 + 9 / 1 * 3 = 28\n",
            "Entrada: 29  Expresión:  3 / 1 * 8 - 2 + 7 = 29\n",
            "Entrada: 30  Expresión:  7 - 9 / 1 + 4 * 8 = 30\n",
            "Entrada: 31  Expresión:  8 + 3 * 9 - 4 / 1 = 31\n",
            "Entrada: 32  Expresión:  6 / 2 + 9 * 4 - 7 = 32\n",
            "Entrada: 33  Expresión:  8 / 2 - 7 + 4 * 9 = 33\n",
            "Entrada: 34  Expresión:  6 * 9 / 2 + 8 - 1 = 34\n",
            "Entrada: 35  Expresión:  8 * 5 - 7 / 1 + 2 = 35\n",
            "Entrada: 36  Expresión:  5 * 8 + 4 / 2 - 6 = 36\n",
            "Entrada: 37  Expresión:  5 * 7 + 6 / 1 - 4 = 37\n",
            "Entrada: 38  Expresión:  8 * 4 + 9 / 1 - 3 = 38\n",
            "Entrada: 39  Expresión:  8 * 9 / 2 - 1 + 4 = 39\n",
            "Entrada: 40  Expresión:  9 * 5 - 7 / 1 + 2 = 40\n",
            "Entrada: 41  Expresión:  6 * 7 + 3 - 8 / 2 = 41\n",
            "Entrada: 42  Expresión:  5 * 7 - 6 / 3 + 9 = 42\n",
            "Entrada: 43  Expresión:  7 * 6 + 9 / 1 - 8 = 43\n",
            "Entrada: 44  Expresión:  7 * 6 - 2 / 1 + 4 = 44\n",
            "Entrada: 45  Expresión:  9 * 5 + 8 / 2 - 4 = 45\n",
            "Entrada: 46  Expresión:  5 * 9 + 7 / 1 - 6 = 46\n",
            "Entrada: 47  Expresión:  4 / 2 + 8 * 6 - 3 = 47\n",
            "Entrada: 48  Expresión:  7 - 4 / 1 + 5 * 9 = 48\n",
            "Entrada: 49  Expresión:  9 / 3 + 6 * 8 - 2 = 49\n",
            "Entrada: 50  Expresión:  6 / 1 * 9 - 8 + 4 = 50\n",
            "Entrada: 51  Expresión:  7 - 4 + 8 * 6 / 1 = 51\n",
            "Entrada: 52  Expresión:  9 * 6 + 3 / 1 - 5 = 52\n",
            "Entrada: 53  Expresión:  6 * 9 + 4 - 5 / 1 = 53\n",
            "Entrada: 54  Expresión:  8 / 1 * 6 + 9 - 3 = 54\n",
            "Entrada: 55  Expresión:  2 - 3 + 8 * 7 / 1 = 55\n",
            "Entrada: 56  Expresión:  5 - 3 + 6 * 9 / 1 = 56\n",
            "Entrada: 57  Expresión:  7 * 8 / 1 + 4 - 3 = 57\n",
            "Entrada: 58  Expresión:  7 * 8 - 6 / 2 + 5 = 58\n",
            "Entrada: 59  Expresión:  2 / 1 + 7 * 9 - 6 = 59\n",
            "Entrada: 60  Expresión:  4 / 2 + 9 * 7 - 5 = 60\n",
            "Entrada: 61  Expresión:  6 / 3 + 7 * 9 - 4 = 61\n",
            "Entrada: 62  Expresión:  5 / 1 - 6 + 7 * 9 = 62\n",
            "Entrada: 63  Expresión:  3 - 6 / 2 + 9 * 7 = 63\n",
            "Entrada: 64  Expresión:  7 * 9 + 8 / 4 - 1 = 64\n",
            "Entrada: 65  Expresión:  9 / 1 * 7 + 5 - 3 = 65\n",
            "Entrada: 66  Expresión:  8 - 5 / 1 + 7 * 9 = 66\n",
            "Entrada: 67  Expresión:  2 / 1 + 8 * 9 - 7 = 67\n",
            "Entrada: 68  Expresión:  8 + 9 / 1 * 7 - 3 = 68\n",
            "Entrada: 69  Expresión:  9 / 1 * 7 - 2 + 8 = 69\n",
            "Entrada: 70  Expresión:  3 - 5 / 1 + 8 * 9 = 70\n",
            "Entrada: 71  Expresión:  3 - 4 + 9 / 1 * 8 = 71\n",
            "Entrada: 72  Expresión:  6 / 1 * 7 + 6 * 5 = 72\n",
            "Entrada: 73  Expresión:  7 - 6 + 8 / 1 * 9 = 73\n",
            "Entrada: 74  Expresión:  6 / 1 - 4 + 8 * 9 = 74\n",
            "Entrada: 75  Expresión:  7 + 8 * 9 / 1 - 4 = 75\n",
            "Entrada: 76  Expresión:  8 * 9 / 1 + 7 - 3 = 76\n",
            "Entrada: 77  Expresión:  9 * 8 - 2 + 7 / 1 = 77\n",
            "Tiempo de ejecución:  1.5025999546051025\n"
          ]
        }
      ]
    },
    {
      "cell_type": "markdown",
      "metadata": {
        "id": "zy5ZROmjlGo1"
      },
      "source": [
        "Aplica el algoritmo al juego de datos generado"
      ]
    },
    {
      "cell_type": "markdown",
      "metadata": {
        "id": "_Cmj-PVylMsa"
      },
      "source": [
        "**Respuesta**\n",
        "\n",
        "Se Implementa en el apartado anterior. Como podemos observar en los tiempos de ejecución de ambos algoritmos, podemos ver la diferencia de eficiencia entre ambos: \n",
        "\n",
        "\n",
        "*   Fuerza Bruta: 25.56 s\n",
        "*   Algoritmo genético: 1.5 s\n",
        "\n"
      ]
    },
    {
      "cell_type": "markdown",
      "metadata": {
        "id": "eTFWUJQrtGcv"
      },
      "source": [
        "Enumera las referencias que has utilizado(si ha sido necesario) para llevar a cabo el trabajo"
      ]
    },
    {
      "cell_type": "markdown",
      "metadata": {
        "id": "YKQ_mRBttWsP"
      },
      "source": [
        "**Respuesta**\n",
        "\n",
        "He necesitado documentarme más a fondo sobre algoritmos genéticos ya que en las actividades guiadas no hemos tratado estos tipos de algoritmos. Sin embargo, en la carrera si tuve que realizar una práctica sobre estos y por ello he tenido que refrescar un poco la información sobre estos. También me ha servido para el desarrollo de la actividad consultar la práctica que realicé en el grado.\n",
        "\n",
        "1.   https://es.wikipedia.org/wiki/Algoritmo_gen%C3%A9tico\n",
        "2.   https://delta.cs.cinvestav.mx/~ccoello/compevol/genetico.pdf\n",
        "3.   https://topbigdata.es/algoritmo-genetico-simple-desde-cero-en-python/\n",
        "\n"
      ]
    },
    {
      "cell_type": "markdown",
      "metadata": {
        "id": "kAkDPUyRtYyH"
      },
      "source": [
        "Describe brevemente las lineas de como crees que es posible avanzar en el estudio del problema. Ten en cuenta incluso posibles variaciones del problema y/o variaciones al alza del tamaño"
      ]
    }
  ]
}