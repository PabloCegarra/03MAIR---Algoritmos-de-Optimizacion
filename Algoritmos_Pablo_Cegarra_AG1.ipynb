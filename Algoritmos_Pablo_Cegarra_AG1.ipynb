{
  "nbformat": 4,
  "nbformat_minor": 0,
  "metadata": {
    "colab": {
      "provenance": []
    },
    "kernelspec": {
      "name": "python3",
      "display_name": "Python 3"
    },
    "language_info": {
      "name": "python"
    }
  },
  "cells": [
    {
      "cell_type": "markdown",
      "source": [
        "<h1>Actividad Guiada 1 de Algoritmos de Optimizacion</h1>\n",
        "\n",
        "Nombre: Pablo Cegarra Tornell\n",
        "\n",
        "https://colab.research.google.com/drive/1nscakqNOYj1X_QydJNMcYVWVK6AMXOiP?usp=sharing\n",
        "\n",
        "https://github.com/PabloCegarra/03MAIR---Algoritmos-de-Optimizacion"
      ],
      "metadata": {
        "id": "i3yGJKpvussN"
      }
    },
    {
      "cell_type": "code",
      "source": [
        "#Torres de Hanoi - Divide y venceras\n",
        "################################################################################\n",
        "\n",
        "\n",
        "################################################################\n",
        "def Torres_Hanoi(N, desde, hasta):\n",
        "  #N - Nº de fichas\n",
        "  #desde - torre inicial\n",
        "  #hasta - torre fina\n",
        "  if N==1 :\n",
        "    print(\"Lleva la ficha desde \" + str(desde) + \" hasta \" + str(hasta))\n",
        "\n",
        "  else:\n",
        "    Torres_Hanoi(N-1, desde, 6-desde-hasta)\n",
        "    print(\"Lleva la ficha desde \" + str(desde) + \" hasta \" + str(hasta))\n",
        "    Torres_Hanoi(N-1, 6-desde-hasta,  hasta)\n",
        "\n",
        "Torres_Hanoi(3, 1, 3)\n",
        "################################################################"
      ],
      "metadata": {
        "id": "lyg7kAFou3tG",
        "colab": {
          "base_uri": "https://localhost:8080/"
        },
        "outputId": "997cb2f3-d125-4429-ca3f-d2bdca59b591"
      },
      "execution_count": 1,
      "outputs": [
        {
          "output_type": "stream",
          "name": "stdout",
          "text": [
            "Lleva la ficha desde 1 hasta 3\n",
            "Lleva la ficha desde 1 hasta 2\n",
            "Lleva la ficha desde 3 hasta 2\n",
            "Lleva la ficha desde 1 hasta 3\n",
            "Lleva la ficha desde 2 hasta 1\n",
            "Lleva la ficha desde 2 hasta 3\n",
            "Lleva la ficha desde 1 hasta 3\n"
          ]
        }
      ]
    },
    {
      "cell_type": "code",
      "source": [
        "#Cambio de monedas - Técnica voraz\n",
        "################################################################################\n",
        "SISTEMA = [12, 5 ,2, 1  ]\n",
        "################################################################\n",
        "def cambio_monedas(CANTIDAD,SISTEMA):\n",
        "#....\n",
        "  SOLUCION = [0]*len(SISTEMA)\n",
        "  ValorAcumulado = 0\n",
        "\n",
        "  for i,valor in enumerate(SISTEMA):\n",
        "    monedas = (CANTIDAD-ValorAcumulado)//valor\n",
        "    SOLUCION[i] = monedas\n",
        "    ValorAcumulado = ValorAcumulado + monedas*valor\n",
        "\n",
        "    if CANTIDAD == ValorAcumulado:\n",
        "      return SOLUCION\n",
        "\n",
        "  print(\"No es posible encontrar solucion\") \n",
        "cambio_monedas(15,SISTEMA)\n",
        "\n",
        "    \n",
        "################################################################"
      ],
      "metadata": {
        "colab": {
          "base_uri": "https://localhost:8080/"
        },
        "id": "6CmdD0ZpstkD",
        "outputId": "71e9dbd0-a191-49c1-aa6c-06e7fc966a49"
      },
      "execution_count": 3,
      "outputs": [
        {
          "output_type": "execute_result",
          "data": {
            "text/plain": [
              "[1, 0, 1, 1]"
            ]
          },
          "metadata": {},
          "execution_count": 3
        }
      ]
    },
    {
      "cell_type": "code",
      "source": [
        "#N Reinas - Vuelta Atrás()\n",
        "################################################################################\n",
        "\n",
        "#Verifica que en la solución parcial no hay amenzas entre reinas\n",
        "################################################################\n",
        "def es_prometedora(SOLUCION,etapa):\n",
        "################################################################\n",
        "  #print(SOLUCION)\n",
        "  #Si la solución tiene dos valores iguales no es valida => Dos reinas en la misma fila\n",
        "  for i in range(etapa+1):\n",
        "    #print(\"El valor \" + str(SOLUCION[i]) + \" está \" +  str(SOLUCION.count(SOLUCION[i])) + \" veces\")\n",
        "    if SOLUCION.count(SOLUCION[i]) > 1:       \n",
        "      return False\n",
        "  \n",
        "    #Verifica las diagonales\n",
        "    for j in range(i+1, etapa +1 ):\n",
        "      #print(\"Comprobando diagonal de \" + str(i) + \" y \" + str(j))\n",
        "      if abs(i-j) == abs(SOLUCION[i]-SOLUCION[j]) : return False\n",
        "  return True\n",
        "\n",
        "#Traduce la solución al tablero\n",
        "################################################################\n",
        "def escribe_solucion(S):\n",
        "################################################################\n",
        "  n = len(S)\n",
        "  for x in range(n):\n",
        "    print(\"\")\n",
        "    for i in range(n):\n",
        "      if S[i] == x+1:\n",
        "        print(\" X \" , end=\"\")\n",
        "      else:\n",
        "        print(\" - \", end=\"\")\n",
        "\n",
        "\n",
        "\n",
        "#Proceso principal de N-Reinas\n",
        "################################################################\n",
        "def reinas(N, solucion=[],etapa=0): \n",
        "################################################################\n",
        "### ....\n",
        "  if len(solucion) == 0:         # [0,0,0...]\n",
        "    solucion = [0 for i in range(N) ]\n",
        "  \n",
        "  for i in range(1, N+1):\n",
        "    solucion[etapa] = i\n",
        "    if es_prometedora(solucion, etapa):\n",
        "      if etapa == N-1:\n",
        "        print(solucion)\n",
        "      else:  \n",
        "        reinas(N, solucion, etapa+1)\n",
        "    else:\n",
        "      None\n",
        "  \n",
        "  solucion[etapa] = 0\n",
        "\n",
        "reinas(8,solucion=[],etapa=0)"
      ],
      "metadata": {
        "id": "55kYleAUwvP7"
      },
      "execution_count": null,
      "outputs": []
    },
    {
      "cell_type": "code",
      "source": [
        "#Viaje por el rio - Programación dinámica\n",
        "################################################################################\n",
        "\n",
        "TARIFAS = [\n",
        "[0,5,4,3,999,999,999],\n",
        "[999,0,999,2,3,999,11],\n",
        "[999,999, 0,1,999,4,10],\n",
        "[999,999,999, 0,5,6,9],\n",
        "[999,999, 999,999,0,999,4],\n",
        "[999,999, 999,999,999,0,3],\n",
        "[999,999,999,999,999,999,0]\n",
        "]\n",
        "\n",
        "#999 se puede sustituir por float(\"inf\")\n",
        "\n",
        "\n",
        "#Calculo de la matriz de PRECIOS y RUTAS\n",
        "################################################################  \n",
        "def Precios(TARIFAS):\n",
        "################################################################  \n",
        "  #Total de Nodos\n",
        "  N = len(TARIFAS[0])\n",
        "  \n",
        "  #Inicialización de la tabla de precios\n",
        "  PRECIOS = [ [9999]*N for i in [9999]*N]\n",
        "  RUTA = [ [\"\"]*N for i in [\"\"]*N]\n",
        "  \n",
        "  for i in range(0,N-1):\n",
        "    RUTA[i][i] = i             #Para ir de i a i se \"pasa por i\"\n",
        "    PRECIOS[i][i] = 0          #Para ir de i a i se se paga 0\n",
        "    for j in range(i+1, N):\n",
        "      MIN = TARIFAS[i][j]\n",
        "      RUTA[i][j] = i         \n",
        "      \n",
        "      for k in range(i, j):\n",
        "        if PRECIOS[i][k] + TARIFAS[k][j] < MIN:\n",
        "            MIN = min(MIN, PRECIOS[i][k] + TARIFAS[k][j] )\n",
        "            RUTA[i][j] = k          #Anota que para ir de i a j hay que pasar por k\n",
        "        PRECIOS[i][j] = MIN\n",
        "        \n",
        "  return PRECIOS,RUTA\n",
        "################################################################  \n",
        "\n",
        "PRECIOS,RUTA = Precios(TARIFAS)  \n",
        "#print(PRECIOS[0][6])\n",
        "\n",
        "print(\"PRECIOS\")\n",
        "for i in range(len(TARIFAS)):\n",
        "  print(PRECIOS[i])\n",
        "\n",
        "print(\"\\nRUTA\")  \n",
        "for i in range(len(TARIFAS)):\n",
        "  print(RUTA[i])  \n",
        "  \n",
        "#Determinar la ruta con Recursividad\n",
        "def calcular_ruta(RUTA, desde, hasta):\n",
        "  if desde == hasta:\n",
        "    #print(\"Ir a :\" + str(desde))\n",
        "    return \"\" \n",
        "  else:\n",
        "    return str(calcular_ruta( RUTA, desde, RUTA[desde][hasta])) +  \\\n",
        "                ',' + \\\n",
        "                str(RUTA[desde][hasta] \\\n",
        "              ) \n",
        "\n",
        "print(\"\\nLa ruta es:\")  \n",
        "calcular_ruta(RUTA, 0,6)  "
      ],
      "metadata": {
        "colab": {
          "base_uri": "https://localhost:8080/",
          "height": 383
        },
        "id": "RdlEAn_bxbNP",
        "outputId": "b288c4ea-6aca-465f-acb4-67ae28710694"
      },
      "execution_count": 5,
      "outputs": [
        {
          "output_type": "stream",
          "name": "stdout",
          "text": [
            "PRECIOS\n",
            "[0, 5, 4, 3, 8, 8, 11]\n",
            "[9999, 0, 999, 2, 3, 8, 7]\n",
            "[9999, 9999, 0, 1, 6, 4, 7]\n",
            "[9999, 9999, 9999, 0, 5, 6, 9]\n",
            "[9999, 9999, 9999, 9999, 0, 999, 4]\n",
            "[9999, 9999, 9999, 9999, 9999, 0, 3]\n",
            "[9999, 9999, 9999, 9999, 9999, 9999, 9999]\n",
            "\n",
            "RUTA\n",
            "[0, 0, 0, 0, 1, 2, 5]\n",
            "['', 1, 1, 1, 1, 3, 4]\n",
            "['', '', 2, 2, 3, 2, 5]\n",
            "['', '', '', 3, 3, 3, 3]\n",
            "['', '', '', '', 4, 4, 4]\n",
            "['', '', '', '', '', 5, 5]\n",
            "['', '', '', '', '', '', '']\n",
            "\n",
            "La ruta es:\n"
          ]
        },
        {
          "output_type": "execute_result",
          "data": {
            "text/plain": [
              "',0,2,5'"
            ],
            "application/vnd.google.colaboratory.intrinsic+json": {
              "type": "string"
            }
          },
          "metadata": {},
          "execution_count": 5
        }
      ]
    },
    {
      "cell_type": "markdown",
      "source": [
        "**<h2> Problema puntos más cercanos por fuerza bruta 1D</h2>**\n",
        "\n",
        "ref: \n",
        "https://es.wikipedia.org/wiki/Problema_del_par_de_puntos_m%C3%A1s_cercanos\n",
        "https://www.cartagena99.com/recursos/alumnos/apuntes/5.%20Divide%20y%20venceras.pdf\n",
        "https://web.archive.org/web/20170303201550/https://pdfs.semanticscholar.org/dfba/35c318f0fc244c6d6cad98c1ad33f82d16ad.pdf"
      ],
      "metadata": {
        "id": "jHO0VU4A26ui"
      }
    },
    {
      "cell_type": "code",
      "source": [
        "import sys\n",
        "\n",
        "def puntos_mas_cercanos(puntos):\n",
        "    distancia_minima = 999\n",
        "    n = len(puntos)\n",
        "    for i in range(n):\n",
        "        for j in range(i+1, n):\n",
        "            distancia = abs(puntos[i] - puntos[j])\n",
        "            if distancia < distancia_minima:\n",
        "                distancia_minima = distancia\n",
        "                par_puntos_cercanos = (puntos[i], puntos[j])\n",
        "    return par_puntos_cercanos, distancia_minima\n",
        "\n",
        "puntos = [2, 3, 12, 30, 40, 50, 5, 1, 14, 10, 33, 4]\n",
        "par_puntos_cercanos, distancia_minima = puntos_mas_cercanos(puntos)\n",
        "print(\"Los puntos más cercanos son: \", par_puntos_cercanos)\n",
        "print(\"La distancia mínima es: \", distancia_minima)"
      ],
      "metadata": {
        "colab": {
          "base_uri": "https://localhost:8080/"
        },
        "id": "SSFg7Gvp0pgL",
        "outputId": "ec6b3af3-4f77-4892-9977-633229bae33e"
      },
      "execution_count": 10,
      "outputs": [
        {
          "output_type": "stream",
          "name": "stdout",
          "text": [
            "Los puntos más cercanos son:  (2, 3)\n",
            "La distancia mínima es:  1\n"
          ]
        }
      ]
    },
    {
      "cell_type": "markdown",
      "source": [
        "\n",
        "**Complejidad**: O(n^2). Se compararía cada punto con todos los demás puntos para encontrar la distancia mínima\n"
      ],
      "metadata": {
        "id": "HMxUPM68HJ55"
      }
    },
    {
      "cell_type": "markdown",
      "source": [
        "**<h2> Problema puntos más cercanos por DyV 1D</h2>**\n",
        "\n"
      ],
      "metadata": {
        "id": "qv8JUxtD3ybE"
      }
    },
    {
      "cell_type": "code",
      "source": [
        "import sys\n",
        "import math\n",
        "\n",
        "def puntos_mas_cercano(puntos):\n",
        "    n = len(puntos)\n",
        "    if n <= 3:\n",
        "        return fuerza_bruta(puntos, n)\n",
        "    puntos.sort()\n",
        "    medio = n // 2\n",
        "    punto_medio = puntos[medio]\n",
        "    minimo_izquierda = puntos_mas_cercano(puntos[:medio])\n",
        "    minimo_derecha = puntos_mas_cercano(puntos[medio:])\n",
        "    delta = min(minimo_izquierda, minimo_derecha)\n",
        "    tira = [punto for punto in puntos if abs(punto - punto_medio) < delta]\n",
        "    tamano_tira = len(tira)\n",
        "    return min(delta, tira_mas_cercana(tira, tamano_tira, delta))\n",
        "\n",
        "def tira_mas_cercana(tira, tamano, delta):\n",
        "    for i in range(tamano):\n",
        "        for j in range(i + 1, min(i + 7, tamano)):\n",
        "            if abs(tira[i] - tira[j]) < delta:\n",
        "                return abs(tira[i] - tira[j])\n",
        "\n",
        "    return delta\n",
        "\n",
        "def fuerza_bruta(puntos, n):\n",
        "    distancia_minima = sys.maxsize\n",
        "    for i in range(n):\n",
        "        for j in range(i + 1, n):\n",
        "            distancia_minima = min(distancia_minima, abs(puntos[i] - puntos[j]))\n",
        "    return distancia_minima\n",
        "\n",
        "puntos = [1, 3, 5, 7, 9]\n",
        "print(\"La distancia mínima (1D) es:\", puntos_mas_cercano(puntos))\n"
      ],
      "metadata": {
        "colab": {
          "base_uri": "https://localhost:8080/"
        },
        "id": "XnX5qU4VDEUc",
        "outputId": "48860f58-8149-4cb0-e3cc-1abc75c8cffc"
      },
      "execution_count": 7,
      "outputs": [
        {
          "output_type": "stream",
          "name": "stdout",
          "text": [
            "La distancia mínima (1D) es: 2\n"
          ]
        }
      ]
    },
    {
      "cell_type": "markdown",
      "source": [
        "\n",
        "**Proceso**: \n",
        "1.   Dividir la lista de puntos en dos sublistas: una para los puntos a la izquierda del punto medio y otra para los puntos a la derecha.\n",
        "2.   Resolver el problema recursivamente para cada una de las dos sublistas.\n",
        "Calcular la distancia mínima entre los puntos en las dos sublistas y elegir la menor de ellas como el resultado temporal\n",
        "3. Crear una lista llamada \"tira\" que contenga solo aquellos puntos cuyas distancias al punto medio son menores que el resultado temporal\n",
        "4. Encontrar la distancia mínima entre los puntos en la tira utilizando una búsqueda de fuerza bruta.\n",
        "5. Comparar la distancia mínima encontrada en la tira con el resultado temporal y elegir la menor de las dos como el resultado final.\n",
        "\n",
        "**Complejidad**: O(n log n). La división de la lista en sublistas y la resolución recursiva de cada sublista tienen una complejidad temporal de O(log n), mientras que la búsqueda de fuerza bruta en la tira tiene una complejidad temporal de O(n)\n",
        "\n"
      ],
      "metadata": {
        "id": "5D5nNO0KFJkr"
      }
    },
    {
      "cell_type": "markdown",
      "source": [],
      "metadata": {
        "id": "1y28cSXXIG0a"
      }
    },
    {
      "cell_type": "code",
      "source": [
        "import sys\n",
        "from math import sqrt\n",
        "\n",
        "def distancia(p1, p2):\n",
        "    return sqrt((p1[0]-p2[0])**2 + (p1[1]-p2[1])**2)\n",
        "\n",
        "def puntos_mas_cercanos(puntos, n):\n",
        "    if n <= 3:\n",
        "        return bruto(puntos, n)\n",
        "\n",
        "    medio = n // 2\n",
        "    izquierda = puntos[:medio]\n",
        "    derecha = puntos[medio:]\n",
        "\n",
        "    puntos_cercanos_izquierda = puntos_mas_cercanos(izquierda, medio)\n",
        "    puntos_cercanos_derecha = puntos_mas_cercanos(derecha, n - medio)\n",
        "    puntos_cercanos = puntos_cercanos_izquierda if distancia(puntos_cercanos_izquierda[0], puntos_cercanos_izquierda[1]) < distancia(puntos_cercanos_derecha[0], puntos_cercanos_derecha[1]) else puntos_cercanos_derecha\n",
        "\n",
        "    tira = [p for p in puntos if abs(p[0]-izquierda[-1][0]) < distancia(puntos_cercanos[0], puntos_cercanos[1])]\n",
        "    tira = sorted(tira, key=lambda x: x[1])\n",
        "\n",
        "    tamanio = len(tira)\n",
        "    for i in range(tamanio - 1):\n",
        "        for j in range(i+1, min(i + 7, tamanio)):\n",
        "            if distancia(tira[i], tira[j]) < distancia(puntos_cercanos[0], puntos_cercanos[1]):\n",
        "                puntos_cercanos = (tira[i], tira[j])\n",
        "\n",
        "    return puntos_cercanos\n",
        "\n",
        "def bruto(puntos, n):\n",
        "    puntos_cercanos = (puntos[0], puntos[1])\n",
        "    for i in range(n):\n",
        "        for j in range(i + 1, n):\n",
        "            if distancia(puntos[i], puntos[j]) < distancia(puntos_cercanos[0], puntos_cercanos[1]):\n",
        "                puntos_cercanos = (puntos[i], puntos[j])\n",
        "    return puntos_cercanos\n",
        "\n",
        "puntos = [(2, 3), (12, 30), (40, 50), (5, 1), (12, 10), (3, 4)]\n",
        "n = len(puntos)\n",
        "\n",
        "puntos = sorted(puntos, key=lambda x: x[0])\n",
        "\n",
        "puntos_cercanos = puntos_mas_cercanos(puntos, n)\n",
        "print(\"Los puntos mas cercanos son:\", puntos_cercanos[0], \"y\", puntos_cercanos[1])\n"
      ],
      "metadata": {
        "colab": {
          "base_uri": "https://localhost:8080/"
        },
        "id": "t2JsfR3gIG_j",
        "outputId": "a8130660-d6d9-4e2d-c1cb-5fab313bf28c"
      },
      "execution_count": 9,
      "outputs": [
        {
          "output_type": "stream",
          "name": "stdout",
          "text": [
            "Los puntos mas cercanos son: (2, 3) y (3, 4)\n"
          ]
        }
      ]
    }
  ]
}